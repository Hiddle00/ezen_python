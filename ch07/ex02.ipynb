{
 "cells": [
  {
   "cell_type": "code",
   "execution_count": 1,
   "id": "f007d0f9-cef9-40dc-a8a0-c0531c6a0f49",
   "metadata": {},
   "outputs": [
    {
     "name": "stdout",
     "output_type": "stream",
     "text": [
      "hello\n"
     ]
    }
   ],
   "source": [
    "#함수\n",
    "#파라미터와 반환값이 없는 함수\n",
    "def first_def() :   #정의\n",
    "    print(\"hello\")\n",
    "\n",
    "first_def()         #호출"
   ]
  },
  {
   "cell_type": "code",
   "execution_count": 4,
   "id": "376a8101-2cfd-4a16-95cb-9a865800c6be",
   "metadata": {},
   "outputs": [
    {
     "name": "stdout",
     "output_type": "stream",
     "text": [
      "hello\n",
      "문자\n"
     ]
    }
   ],
   "source": [
    "#파라미터는 없고 반환값이 있는 함수\n",
    "def second_def() :\n",
    "    print(\"hello\")\n",
    "    return \"문자\"\n",
    "\n",
    "value = second_def()\n",
    "print(value)"
   ]
  },
  {
   "cell_type": "code",
   "execution_count": 10,
   "id": "cc33ca89-827d-4633-a5f5-de32ba21e241",
   "metadata": {},
   "outputs": [
    {
     "name": "stdout",
     "output_type": "stream",
     "text": [
      "50\n",
      "5\n"
     ]
    },
    {
     "data": {
      "text/plain": [
       "-4"
      ]
     },
     "execution_count": 10,
     "metadata": {},
     "output_type": "execute_result"
    }
   ],
   "source": [
    "#파라미터는 있고 반환값은 없는 함수\n",
    "def show(a, b) :\n",
    "    print(a)\n",
    "    print(b)\n",
    "\n",
    "show(50, 5)\n",
    "\n",
    "def minus(a, b) :\n",
    "    return a - b\n",
    "\n",
    "minus(1, 5)"
   ]
  },
  {
   "cell_type": "code",
   "execution_count": 15,
   "id": "e2aa54f3-014d-4793-9d5d-04a408e9b58b",
   "metadata": {},
   "outputs": [
    {
     "name": "stdout",
     "output_type": "stream",
     "text": [
      "15\n",
      "3.141592\n"
     ]
    }
   ],
   "source": [
    "# 1.파라미터 두 개를 받아 더하여 출력하는 함수 add를 만들고 실행\n",
    "def add(x, y) :\n",
    "    print(x + y)\n",
    "add(5, 10)\n",
    "# 2.호출하면 3.141592값을 반환하는 get_pi 함수를 만들고 실행\n",
    "def get_pi() :\n",
    "    return 3.141592\n",
    "print(get_pi())"
   ]
  },
  {
   "cell_type": "code",
   "execution_count": 17,
   "id": "7997f47e-e2a7-454d-814f-605faf8d7e89",
   "metadata": {},
   "outputs": [
    {
     "name": "stdout",
     "output_type": "stream",
     "text": [
      "25\n"
     ]
    }
   ],
   "source": [
    "#파라미터도 있고 반환값도 있는 함수\n",
    "def square(x) :\n",
    "    return x * x\n",
    "\n",
    "result = square(5)\n",
    "print(result)"
   ]
  },
  {
   "cell_type": "code",
   "execution_count": 24,
   "id": "5b68d7cb-41cd-48de-98ab-6f0573b9f744",
   "metadata": {},
   "outputs": [
    {
     "name": "stdout",
     "output_type": "stream",
     "text": [
      "0.0\n"
     ]
    }
   ],
   "source": [
    "#파라미터 두 개를 받아 나눈 후 값을 돌려주는 div함수를 생성하고 호출\n",
    "def div(x, y) :\n",
    "    if y != 0 :\n",
    "        return x / y\n",
    "    else :\n",
    "        return \"err\"\n",
    "    \n",
    "result = div(0, 10)\n",
    "print(result)"
   ]
  },
  {
   "cell_type": "code",
   "execution_count": 29,
   "id": "f29dffc7-2ce0-444b-8253-64315e57e55c",
   "metadata": {},
   "outputs": [
    {
     "name": "stdout",
     "output_type": "stream",
     "text": [
      "a\n",
      "b\n",
      "c\n",
      "기본값\n",
      "50\n"
     ]
    }
   ],
   "source": [
    "print(\"a\", \"b\", \"c\", sep = \"\\n\")\n",
    "\n",
    "#함수 파라미터의 기본값\n",
    "def third_def(a=\"기본값\", b = 0) :\n",
    "    print(a)\n",
    "    print(b)\n",
    "\n",
    "#키워드 인수\n",
    "third_def(b = 50)"
   ]
  }
 ],
 "metadata": {
  "kernelspec": {
   "display_name": "Python 3 (ipykernel)",
   "language": "python",
   "name": "python3"
  },
  "language_info": {
   "codemirror_mode": {
    "name": "ipython",
    "version": 3
   },
   "file_extension": ".py",
   "mimetype": "text/x-python",
   "name": "python",
   "nbconvert_exporter": "python",
   "pygments_lexer": "ipython3",
   "version": "3.13.5"
  }
 },
 "nbformat": 4,
 "nbformat_minor": 5
}
