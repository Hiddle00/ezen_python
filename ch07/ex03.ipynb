{
 "cells": [
  {
   "cell_type": "code",
   "execution_count": 8,
   "id": "b58b8538-7102-4f43-9845-e229760c1eea",
   "metadata": {},
   "outputs": [],
   "source": [
    "#전역변수, 지역변수\n",
    "#1.지역변수(local valriable) : 특정 코드블럭 내부에서만 사용가능\n",
    "#2.전역변수(global) : 코드블럭 외부에 선언된 변수로 코드블럭 내부에서도 접근 가능"
   ]
  },
  {
   "cell_type": "code",
   "execution_count": 7,
   "id": "99e84d01-6410-41a9-8496-d7c983b6c070",
   "metadata": {},
   "outputs": [
    {
     "name": "stdout",
     "output_type": "stream",
     "text": [
      "20\n"
     ]
    }
   ],
   "source": [
    "#지역변수\n",
    "def local_example() :\n",
    "    b = 20\n",
    "    print(b)\n",
    "\n",
    "local_example()\n",
    "#print(b)"
   ]
  },
  {
   "cell_type": "code",
   "execution_count": 11,
   "id": "3750e7a8-3d50-41ef-96fc-7442788ca791",
   "metadata": {},
   "outputs": [
    {
     "name": "stdout",
     "output_type": "stream",
     "text": [
      "100\n"
     ]
    }
   ],
   "source": [
    "#전역변수\n",
    "c = 100\n",
    "def global_example() :\n",
    "    print(c)\n",
    "\n",
    "#print(c)\n",
    "global_example()"
   ]
  },
  {
   "cell_type": "code",
   "execution_count": 14,
   "id": "a449c1ef-ba8b-4aac-9fa4-5ab0ace34565",
   "metadata": {},
   "outputs": [
    {
     "name": "stdout",
     "output_type": "stream",
     "text": [
      "10\n",
      "100\n"
     ]
    }
   ],
   "source": [
    "#전역변수와 지역변수 혼용\n",
    "y = 100\n",
    "\n",
    "def global_example() :\n",
    "    y = 10\n",
    "    print(y)\n",
    "\n",
    "global_example()\n",
    "print(y)"
   ]
  },
  {
   "cell_type": "code",
   "execution_count": 18,
   "id": "4c5e9964-ff86-4254-929f-86813c539be5",
   "metadata": {},
   "outputs": [
    {
     "name": "stdout",
     "output_type": "stream",
     "text": [
      "50\n"
     ]
    }
   ],
   "source": [
    "#코드블럭 내부에서 전역변수 접근\n",
    "z = 100\n",
    "\n",
    "def global_example() :\n",
    "    global z\n",
    "    z = 50\n",
    "\n",
    "global_example()\n",
    "print(z)"
   ]
  }
 ],
 "metadata": {
  "kernelspec": {
   "display_name": "Python 3 (ipykernel)",
   "language": "python",
   "name": "python3"
  },
  "language_info": {
   "codemirror_mode": {
    "name": "ipython",
    "version": 3
   },
   "file_extension": ".py",
   "mimetype": "text/x-python",
   "name": "python",
   "nbconvert_exporter": "python",
   "pygments_lexer": "ipython3",
   "version": "3.13.5"
  }
 },
 "nbformat": 4,
 "nbformat_minor": 5
}
