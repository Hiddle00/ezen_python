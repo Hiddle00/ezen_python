{
 "cells": [
  {
   "cell_type": "code",
   "execution_count": 2,
   "id": "4d9130c4-93c4-4ea3-9570-9144b1db1684",
   "metadata": {},
   "outputs": [
    {
     "name": "stdout",
     "output_type": "stream",
     "text": [
      "a!\n"
     ]
    },
    {
     "data": {
      "text/plain": [
       "'HI'"
      ]
     },
     "execution_count": 2,
     "metadata": {},
     "output_type": "execute_result"
    }
   ],
   "source": [
    "#함수\n",
    "#함수는 특정 동작을 수행하는 코드 블럭으로 코드를 재사용 하기위해 사용된다.\n",
    "\n",
    "#함수를 정의할 때 def키워드를 사용\n",
    "#함수는 입력값(파라미터) 반환값(리턴)이 있다.\n",
    "def a() :\n",
    "    print(\"a!\")\n",
    "    return \"HI\"\n",
    "a()"
   ]
  },
  {
   "cell_type": "code",
   "execution_count": 3,
   "id": "06fc8892-d96a-4b70-8c74-e470a6db8ace",
   "metadata": {},
   "outputs": [
    {
     "name": "stdout",
     "output_type": "stream",
     "text": [
      "3.14159219\n"
     ]
    }
   ],
   "source": [
    "#파라미터는 없고, 반환값이 있는 함수\n",
    "def get_pi() :\n",
    "    return 3.14159219\n",
    "b = get_pi()\n",
    "print(b)"
   ]
  },
  {
   "cell_type": "code",
   "execution_count": 4,
   "id": "a15c01f6-90a9-4f34-9309-e6379594eed0",
   "metadata": {},
   "outputs": [
    {
     "name": "stdout",
     "output_type": "stream",
     "text": [
      "1\n",
      "2.2\n",
      "a\n",
      "True\n"
     ]
    }
   ],
   "source": [
    "#파라미터는 있고, 반환값이 없는 함수\n",
    "def c(value) :\n",
    "    print(value)\n",
    "\n",
    "c(1)\n",
    "c(2.2)\n",
    "c(\"a\")\n",
    "c(True)"
   ]
  },
  {
   "cell_type": "code",
   "execution_count": 6,
   "id": "6bd434a2-3d12-44a3-91f9-2ce94be717af",
   "metadata": {},
   "outputs": [],
   "source": [
    "# 파라미터를 두 개 받을 수 있는 add 함수를 정의하고\n",
    "# add함수가 실행 될 때 파라미터로 받은 두 개의 값을 더해서 print하게 구현\n",
    "\n",
    "def add(a, b) :\n",
    "    print( a + b )"
   ]
  },
  {
   "cell_type": "code",
   "execution_count": 10,
   "id": "d42d5080-0747-4729-9b11-ebc946bb950b",
   "metadata": {},
   "outputs": [
    {
     "name": "stdout",
     "output_type": "stream",
     "text": [
      "hello world\n",
      "57\n"
     ]
    }
   ],
   "source": [
    "# 파라미터도 있고 반환 값도 있는 함수\n",
    "\n",
    "def add2(a, b) :\n",
    "    return a + b\n",
    "\n",
    "d = add2(\"hello\", \" world\")\n",
    "print(d)\n",
    "\n",
    "d = add2(5, 7)\n",
    "print(d)"
   ]
  },
  {
   "cell_type": "code",
   "execution_count": 13,
   "id": "c883a78f-5cc2-4778-aa73-ad404dd99897",
   "metadata": {},
   "outputs": [
    {
     "name": "stdout",
     "output_type": "stream",
     "text": [
      "안녕하세요 손님\n"
     ]
    }
   ],
   "source": [
    "#함수 파라미터의 기본값\n",
    "def hello(name = \"손\") :\n",
    "    print(\"안녕하세요 \" + name + \"님\")\n",
    "\n",
    "hello()"
   ]
  },
  {
   "cell_type": "code",
   "execution_count": 15,
   "id": "a9438076-349b-4a73-a009-f9a8a33d2e32",
   "metadata": {},
   "outputs": [
    {
     "name": "stdout",
     "output_type": "stream",
     "text": [
      "홍길동님, 가격은 30000원 입니다.\n",
      "홍길동님, 가격은 30000원 입니다.\n",
      "나이는 20\n"
     ]
    }
   ],
   "source": [
    "def hello2(name, price) :\n",
    "    print(name + \"님, 가격은 \" + str(price) + \"원 입니다.\")\n",
    "    print(f\"{name}님, 가격은 {price}원 입니다.\")\n",
    "\n",
    "hello2(\"홍길동\", 30000)\n",
    "\n",
    "#f-string\n",
    "value = f\"나이는 {20}\"\n",
    "print(value)"
   ]
  },
  {
   "cell_type": "code",
   "execution_count": 17,
   "id": "f8f3ce12-6d27-461f-b667-22add1a69ab8",
   "metadata": {},
   "outputs": [
    {
     "name": "stdout",
     "output_type": "stream",
     "text": [
      "a,b\n",
      "전우치님, 가격은 20000원 입니다.\n",
      "성춘향님, 가격은 50000원 입니다.\n"
     ]
    }
   ],
   "source": [
    "#함수의 키워드 인수\n",
    "#함수 호출 시 파라미터 이름을 직접 지정하여 전달하는 방식\n",
    "print(\"a\", \"b\", sep=\",\")\n",
    "\n",
    "def hello3(name, price):\n",
    "    print(f\"{name}님, 가격은 {price}원 입니다.\")\n",
    "\n",
    "hello3(\"전우치\", 20000)\n",
    "\n",
    "#hello3(50000, \"성춘향\")\n",
    "hello3(price=50000, name=\"성춘향\")"
   ]
  }
 ],
 "metadata": {
  "kernelspec": {
   "display_name": "Python 3 (ipykernel)",
   "language": "python",
   "name": "python3"
  },
  "language_info": {
   "codemirror_mode": {
    "name": "ipython",
    "version": 3
   },
   "file_extension": ".py",
   "mimetype": "text/x-python",
   "name": "python",
   "nbconvert_exporter": "python",
   "pygments_lexer": "ipython3",
   "version": "3.13.5"
  }
 },
 "nbformat": 4,
 "nbformat_minor": 5
}
