{
 "cells": [
  {
   "cell_type": "code",
   "execution_count": 33,
   "id": "21f294e8-0527-4cef-a979-eb06f2c1c3d9",
   "metadata": {},
   "outputs": [
    {
     "name": "stdout",
     "output_type": "stream",
     "text": [
      "<class 'int'>\n",
      "12 X 1 = 12\n",
      "12 X 2 = 24\n",
      "12 X 3 = 36\n",
      "12 X 4 = 48\n",
      "12 X 5 = 60\n",
      "12 X 6 = 72\n",
      "12 X 7 = 84\n",
      "12 X 8 = 96\n",
      "12 X 9 = 108\n",
      "12 X 10 = 120\n",
      "12 X 11 = 132\n",
      "12 X 12 = 144\n",
      "12 X 13 = 156\n",
      "12 X 14 = 168\n",
      "12 X 15 = 180\n",
      "12 X 16 = 192\n",
      "12 X 17 = 204\n",
      "12 X 18 = 216\n",
      "12 X 19 = 228\n",
      "12 X 20 = 240\n",
      "12 X 21 = 252\n",
      "12 X 22 = 264\n",
      "12 X 23 = 276\n",
      "12 X 24 = 288\n",
      "12 X 25 = 300\n",
      "12 X 26 = 312\n",
      "12 X 27 = 324\n",
      "12 X 28 = 336\n",
      "12 X 29 = 348\n",
      "12 X 30 = 360\n",
      "<class 'list'>\n",
      "<class 'int'>\n",
      "<class 'float'>\n",
      "<class 'str'>\n",
      "<class 'bool'>\n",
      "<class 'complex'>\n"
     ]
    }
   ],
   "source": [
    "def multiple(dan = 2, end = 9, begin = 1) :\n",
    "    end += 1\n",
    "    print(type(dan))\n",
    "    for x in range(begin, end) :\n",
    "        print(f\"{dan} X {x} = {dan*x}\")\n",
    "\n",
    "def multimulti() :\n",
    "    pass\n",
    "multiple(12, 30)\n",
    "\n",
    "print(type([2,3]))\n",
    "print(type(2))\n",
    "print(type(2.2))\n",
    "print(type(\"str\"))\n",
    "print(type(True))\n",
    "print(type(2 + 2j))"
   ]
  },
  {
   "cell_type": "code",
   "execution_count": 36,
   "id": "3badb573-21d5-472c-94b8-45758dd64472",
   "metadata": {},
   "outputs": [
    {
     "name": "stdout",
     "output_type": "stream",
     "text": [
      "20\n"
     ]
    }
   ],
   "source": [
    "person = {\n",
    "    \"홍길동\" : \n",
    "    {\"이름\" : \"홍길동\", \"나이\" : 20, \"지역\" : \"서울시\" },\n",
    "    \"전우치\" :\n",
    "    {\"이름\" : \"전우치\", \"나이\" : 25, \"지역\" : \"전주시\"},\n",
    "    \"성춘향\" :\n",
    "    {\"이름\" : \"성춘향\", \"나이\" : 30, \"지역\" : \"남원시\"}\n",
    "}\n",
    "\n",
    "man = person.get(\"홍길동\").get(\"나이\")\n",
    "print(man)"
   ]
  }
 ],
 "metadata": {
  "kernelspec": {
   "display_name": "Python 3 (ipykernel)",
   "language": "python",
   "name": "python3"
  },
  "language_info": {
   "codemirror_mode": {
    "name": "ipython",
    "version": 3
   },
   "file_extension": ".py",
   "mimetype": "text/x-python",
   "name": "python",
   "nbconvert_exporter": "python",
   "pygments_lexer": "ipython3",
   "version": "3.13.5"
  }
 },
 "nbformat": 4,
 "nbformat_minor": 5
}
