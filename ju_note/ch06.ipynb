{
 "cells": [
  {
   "cell_type": "code",
   "execution_count": 12,
   "id": "28337749-0899-487e-b959-24fd660527ef",
   "metadata": {},
   "outputs": [
    {
     "name": "stdout",
     "output_type": "stream",
     "text": [
      "한국의 수도는? ㅁ\n"
     ]
    }
   ],
   "source": [
    "answer = input(\"한국의 수도는?\")\n",
    "if answer == \"서울\" :\n",
    "    print(\"정답\", \"축하합니다\")"
   ]
  },
  {
   "cell_type": "code",
   "execution_count": 22,
   "id": "95bec6e4-3f7f-41e9-b43e-e0311cf3de45",
   "metadata": {
    "scrolled": true
   },
   "outputs": [
    {
     "name": "stdout",
     "output_type": "stream",
     "text": [
      "err\n"
     ]
    }
   ],
   "source": [
    "if dir == \"동\" :\n",
    "    print(\"강릉\")\n",
    "elif dir == \"서\" :\n",
    "    print(\"인천\")\n",
    "elif dir == \"남\" :\n",
    "    print(\"과천\")\n",
    "elif dir == \"북\" :\n",
    "    print(\"고양\")\n",
    "else :\n",
    "    print(\"err\")"
   ]
  },
  {
   "cell_type": "code",
   "execution_count": 23,
   "id": "a51adf41-5e04-4a6b-9854-832312f14c4b",
   "metadata": {},
   "outputs": [
    {
     "name": "stdout",
     "output_type": "stream",
     "text": [
      " 20\n"
     ]
    },
    {
     "name": "stdout",
     "output_type": "stream",
     "text": [
      "True\n"
     ]
    }
   ],
   "source": [
    "n = int(input())\n",
    "if n % 5 == 0 :\n",
    "    print(True)\n",
    "else :\n",
    "    print(False)"
   ]
  },
  {
   "cell_type": "code",
   "execution_count": null,
   "id": "d3948c9e-d68a-4164-bf75-331f96c8eebe",
   "metadata": {},
   "outputs": [],
   "source": [
    "seoul\n",
    "maeil\n",
    "l = \n",
    "\n"
   ]
  },
  {
   "cell_type": "code",
   "execution_count": 2,
   "id": "1d1cb5da-b580-4d9f-bc39-53b1bdfb6c03",
   "metadata": {},
   "outputs": [
    {
     "name": "stdout",
     "output_type": "stream",
     "text": [
      "6633\n"
     ]
    }
   ],
   "source": [
    "trisum = 0\n",
    "i = 1\n",
    "while i <= 200 :\n",
    "    if i % 3 == 0 :\n",
    "        trisum += i\n",
    "    i += 1\n",
    "print(trisum)"
   ]
  },
  {
   "cell_type": "code",
   "execution_count": 25,
   "id": "3a6d404d-4d9d-481c-b085-833638fb1125",
   "metadata": {},
   "outputs": [
    {
     "name": "stdout",
     "output_type": "stream",
     "text": [
      "1\n",
      "2\n",
      "4\n",
      "5\n",
      "7\n",
      "8\n",
      "10\n"
     ]
    }
   ],
   "source": [
    "for n in range(1,11) :\n",
    "    if n % 3 == 0 :\n",
    "        continue\n",
    "    print(n)"
   ]
  },
  {
   "cell_type": "code",
   "execution_count": 26,
   "id": "140d4bf6-33a2-4aa0-a7b7-df9df3636938",
   "metadata": {},
   "outputs": [
    {
     "data": {
      "text/plain": [
       "27.333333333333332"
      ]
     },
     "execution_count": 26,
     "metadata": {},
     "output_type": "execute_result"
    }
   ],
   "source": [
    "def avg(*int) :\n",
    "    return sum(int) / len(int)\n",
    "\n",
    "avg(50,22,10)"
   ]
  },
  {
   "cell_type": "code",
   "execution_count": 1,
   "id": "71263a6b-f43b-44c7-a610-7ce54f10afd9",
   "metadata": {},
   "outputs": [
    {
     "data": {
      "text/plain": [
       "'\\ndef a(*args, x) :\\n    print(args)\\n    print(x)\\na(1,2,3,4,5, x=20)\\n\\ndef b(x, *args) :\\n    print(x)\\n    print(args)\\nb(1,2,3,4,5)'"
      ]
     },
     "execution_count": 1,
     "metadata": {},
     "output_type": "execute_result"
    }
   ],
   "source": [
    "def max_int(*int) :\n",
    "    return max(int)\n",
    "\n",
    "max_int(3,20,89,19,111,2)\n",
    "\n",
    "\n",
    "def a(*args, x) :\n",
    "    print(args)\n",
    "    print(x)\n",
    "a(1,2,3,4,5, x=20)\n",
    "\n",
    "def b(x, *args) :\n",
    "    print(x)\n",
    "    print(args)\n",
    "b(1,2,3,4,5)"
   ]
  },
  {
   "cell_type": "code",
   "execution_count": 2,
   "id": "15721622",
   "metadata": {},
   "outputs": [
    {
     "name": "stdout",
     "output_type": "stream",
     "text": [
      "2\n",
      "3\n",
      "1\n",
      "2\n"
     ]
    }
   ],
   "source": [
    "def a(x, y) :\n",
    "    print(x)\n",
    "    print(y)\n",
    "a(2, 3)\n",
    "\n",
    "def b(x=1, y=2) :\n",
    "    print(x)\n",
    "    print(y)\n",
    "b(1,2)"
   ]
  },
  {
   "cell_type": "code",
   "execution_count": null,
   "id": "f99df67b",
   "metadata": {},
   "outputs": [],
   "source": [
    "def calcstep(begin, end, step) :\n",
    "    pass\n",
    "\n",
    "\n",
    "def p() :\n",
    "    end = 11\n",
    "    for i in range(1, end) :\n",
    "        print(i)\n"
   ]
  },
  {
   "cell_type": "code",
   "execution_count": null,
   "id": "d8cc9bd7-24a5-4c17-ba53-0108298911fb",
   "metadata": {},
   "outputs": [
    {
     "name": "stdout",
     "output_type": "stream",
     "text": [
      "          \n",
      "         *\n",
      "        **\n",
      "       ***\n",
      "      ****\n",
      "     *****\n",
      "    ******\n",
      "   *******\n",
      "  ********\n",
      " *********\n",
      "**********\n",
      "          \n",
      "         *\n",
      "        **\n",
      "       ***\n",
      "      ****\n",
      "     *****\n",
      "    ******\n",
      "   *******\n",
      "  ********\n",
      " *********\n",
      "**********\n"
     ]
    }
   ],
   "source": [
    "for i in range(0,11) :\n",
    "    print(f\"{ \" \" * (10 - i) + \"*\" * i}\")\n",
    "\n",
    "for i in range(0,11) :\n",
    "    print(\" \" * (10 - i), end = \"\")\n",
    "    for j in range(i) :\n",
    "        print(\"*\", sep = \"\", end = \"\")\n",
    "    print()"
   ]
  },
  {
   "cell_type": "code",
   "execution_count": 21,
   "id": "c00bfc5c-68d3-481a-87f2-38288f106f4a",
   "metadata": {},
   "outputs": [
    {
     "name": "stdout",
     "output_type": "stream",
     "text": [
      "                   *\n",
      "                  ***\n",
      "                 *****\n",
      "                *******\n",
      "               *********\n",
      "              ***********\n",
      "             *************\n",
      "            ***************\n",
      "           *****************\n"
     ]
    },
    {
     "data": {
      "text/plain": [
       "17"
      ]
     },
     "execution_count": 21,
     "metadata": {},
     "output_type": "execute_result"
    }
   ],
   "source": [
    "for i in range(1,10) :\n",
    "    print(\" \" * (20 - i), end = \"\")\n",
    "    for j in range(2 * i - 1) :\n",
    "        print(\"*\", sep = \"\", end = \"\")\n",
    "    print()"
   ]
  }
 ],
 "metadata": {
  "kernelspec": {
   "display_name": "Python 3 (ipykernel)",
   "language": "python",
   "name": "python3"
  },
  "language_info": {
   "codemirror_mode": {
    "name": "ipython",
    "version": 3
   },
   "file_extension": ".py",
   "mimetype": "text/x-python",
   "name": "python",
   "nbconvert_exporter": "python",
   "pygments_lexer": "ipython3",
   "version": "3.13.5"
  }
 },
 "nbformat": 4,
 "nbformat_minor": 5
}
