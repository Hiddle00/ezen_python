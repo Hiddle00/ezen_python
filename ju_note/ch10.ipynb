{
 "cells": [
  {
   "cell_type": "code",
   "execution_count": 5,
   "id": "28cb42f8-e71b-4d23-8afa-144d7844f975",
   "metadata": {},
   "outputs": [
    {
     "name": "stdout",
     "output_type": "stream",
     "text": [
      "총점 : 585\n",
      "평균 : 73.125\n"
     ]
    }
   ],
   "source": [
    "score = [95, 80, 70, 65, 88, 50, 91, 46]\n",
    "\n",
    "print(f\"총점 : {sum(score)}\")\n",
    "print(f\"평균 : {sum(score) / len(score)}\")"
   ]
  },
  {
   "cell_type": "code",
   "execution_count": 8,
   "id": "acdd2895-9cd7-406e-9a80-89290a58ade2",
   "metadata": {},
   "outputs": [
    {
     "name": "stdout",
     "output_type": "stream",
     "text": [
      "0\n"
     ]
    }
   ],
   "source": [
    "score[1] = 0\n",
    "print(score[1])"
   ]
  },
  {
   "cell_type": "code",
   "execution_count": 10,
   "id": "efa11abf-a2fb-4f6c-bcb9-4325bb8d1fe6",
   "metadata": {},
   "outputs": [
    {
     "name": "stdout",
     "output_type": "stream",
     "text": [
      "[2, 4, 6, 8, 10, 12, 14, 16, 18, 20, 22, 24, 26, 28, 30, 32, 34, 36, 38, 40, 42, 44, 46, 48, 50, 52, 54, 56, 58, 60, 62, 64, 66, 68, 70, 72, 74, 76, 78, 80, 82, 84, 86, 88, 90, 92, 94, 96, 98, 100]\n"
     ]
    }
   ],
   "source": [
    "even = [i for i in range(1,101) if i % 2 == 0]\n",
    "print(even)"
   ]
  },
  {
   "cell_type": "code",
   "execution_count": 3,
   "id": "8a6dc824-3fc2-413f-a9b6-a6f991b53bf3",
   "metadata": {},
   "outputs": [
    {
     "name": "stdout",
     "output_type": "stream",
     "text": [
      "[9, 36, 81]\n"
     ]
    }
   ],
   "source": [
    "list = []\n",
    "for n in range(1,10) :\n",
    "    if n % 3 == 0 :\n",
    "        list.append(n ** 2)\n",
    "print(list)"
   ]
  },
  {
   "cell_type": "code",
   "execution_count": 7,
   "id": "71a9be15-59cc-43ea-af7e-9fc9976765fe",
   "metadata": {},
   "outputs": [
    {
     "name": "stdout",
     "output_type": "stream",
     "text": [
      "['80', '40', '50', '90', '70']\n",
      "['40', '50', '70', '80', '90']\n"
     ]
    }
   ],
   "source": [
    "\"\"\"score_list = input(\"성적을 입력하세요\")\n",
    "score_list = score_list.split(\", \")\n",
    "print(score_list)\n",
    "print(type(score_list))\n",
    "\n",
    "for i in range(5) :\n",
    "    score_list.append(input(\"성적을 입력하세요\"))\n",
    "\"\"\"\n",
    "\n",
    "score_list = [ input(\"성적을 입력하세요\") for i in range(5) ]\n",
    "print(score_list)\n",
    "score_list.sort()\n",
    "print(score_list)\n"
   ]
  },
  {
   "cell_type": "code",
   "execution_count": 20,
   "id": "818f070d-092c-48b8-aaea-35fb2c86e77f",
   "metadata": {},
   "outputs": [
    {
     "name": "stdout",
     "output_type": "stream",
     "text": [
      "True\n",
      "green\n"
     ]
    },
    {
     "name": "stdout",
     "output_type": "stream",
     "text": [
      " 초록\n"
     ]
    },
    {
     "name": "stdout",
     "output_type": "stream",
     "text": [
      "green\n"
     ]
    }
   ],
   "source": [
    "#키 빨, 주, 노, 초, 파, 남, 보\n",
    "#값 영단어\n",
    "colors = {\"빨강\" : \"red\", \"주황\" : \"orange\", \"노랑\" : \"yellow\", \"초록\" : \"green\", \"파랑\" : \"blue\", \"남색\" : \"navy\", \"보라\" : \"purple\"}\n",
    "print(\"초록\" in colors)\n",
    "print(colors[\"초록\"])\n",
    "print(colors[input()])"
   ]
  }
 ],
 "metadata": {
  "kernelspec": {
   "display_name": "base",
   "language": "python",
   "name": "python3"
  },
  "language_info": {
   "codemirror_mode": {
    "name": "ipython",
    "version": 3
   },
   "file_extension": ".py",
   "mimetype": "text/x-python",
   "name": "python",
   "nbconvert_exporter": "python",
   "pygments_lexer": "ipython3",
   "version": "3.13.5"
  }
 },
 "nbformat": 4,
 "nbformat_minor": 5
}
