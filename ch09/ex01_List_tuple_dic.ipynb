{
 "cells": [
  {
   "cell_type": "code",
   "execution_count": 27,
   "id": "f8850f4a-0d46-4e3a-8d36-62b8bb943e4e",
   "metadata": {},
   "outputs": [],
   "source": [
    "#컬렉션\n",
    "#파이썬에서는 여러개의 데이터를 효율적으로 관리할 수 있도록\n",
    "#다양한 컬렉션 자료형을 제공한다.\n",
    "\n",
    "#리스트, 튜플, 딕셔너리, 집합"
   ]
  },
  {
   "cell_type": "code",
   "execution_count": 28,
   "id": "1ff42fe5-4e53-4d6a-9327-4a627945c9ca",
   "metadata": {},
   "outputs": [
    {
     "name": "stdout",
     "output_type": "stream",
     "text": [
      "사과\n",
      "포도\n",
      "포도\n"
     ]
    }
   ],
   "source": [
    "#1.리스트(List)\n",
    "#여러개의 값을 순서대로 저장할 수 있는 자료형, 자바의 배열과 유사\n",
    "#리스트 내 요소를 수정(변경)할 수 있다.\n",
    "\n",
    "fruits = [\"사과\", \"바나나\", \"딸기\", \"포도\"]\n",
    "print(fruits[0])\n",
    "print(fruits[3])\n",
    "print(fruits[-1])\n",
    "#배열과 같이[인덱스]로 요소에 접근한다\n",
    "#-1, -2와 같이 음수 인덱스로 배열의 끝부분부터 접근할 수 있다."
   ]
  },
  {
   "cell_type": "code",
   "execution_count": 29,
   "id": "54854a40-50ce-4303-9fc2-fa3f29c3396e",
   "metadata": {},
   "outputs": [
    {
     "name": "stdout",
     "output_type": "stream",
     "text": [
      "['사과', '오렌지', '딸기', '포도']\n",
      "['사과', '오렌지', '딸기', '포도', '망고']\n",
      "['사과', '오렌지', '복숭아', '딸기', '포도', '망고']\n",
      "['사과', '오렌지', '복숭아', '포도', '망고']\n",
      "['오렌지', '복숭아', '포도', '망고']\n"
     ]
    }
   ],
   "source": [
    "#리스트 요소 수정, 추가, 삭제\n",
    "fruits[1] = \"오렌지\" #fruits배열의 1번 인덱스의 값을 \"오렌지\"로 수정\n",
    "#바나나 -> 오렌지\n",
    "print(fruits)\n",
    "\n",
    "fruits.append(\"망고\") #fruits리스트의 끝에 \"망고\" 추가\n",
    "print(fruits)\n",
    "\n",
    "fruits.insert(2, \"복숭아\") #fruits리스트의 2번 인덱스에 \"복숭아\" 추가\n",
    "#2번인덱스 ~ 끝까지 한칸씩 밀린다\n",
    "print(fruits)\n",
    "\n",
    "fruits.remove(\"딸기\") #fruits리스트에서 \"딸기\" 요소를 삭제(모두)\n",
    "print(fruits)\n",
    "\n",
    "del fruits[0] #fruits리스트에서 0번 인덱스 삭제\n",
    "print(fruits)"
   ]
  },
  {
   "cell_type": "code",
   "execution_count": 31,
   "id": "0f4f9dd0-d782-4287-aa0d-78d193920be4",
   "metadata": {},
   "outputs": [
    {
     "name": "stdout",
     "output_type": "stream",
     "text": [
      "10\n",
      "[10, 20, 30]\n",
      "[10, 20, 30]\n",
      "[30, 40, 50, 60, 70, 80]\n",
      "[10, 20, 30, 40, 50, 60]\n",
      "[10, 30, 50]\n",
      "[10, 20, 30, 40, 50, 60, 70, 80]\n",
      "[10, 20, 30, 40]\n",
      "[80, 70, 60, 50, 40, 30, 20, 10]\n"
     ]
    }
   ],
   "source": [
    "#인덱싱과 슬라이싱\n",
    "numbers = [10, 20, 30, 40, 50, 60, 70, 80]\n",
    "\n",
    "#인덱싱\n",
    "print(numbers[0])\n",
    "#인덱싱으로 리스트에 접근하면 차원이 하나 감소된다.\n",
    "\n",
    "#슬라이싱\n",
    "print(numbers[0:3])\n",
    "#numbers리스트의 0 ~ 2번 요소들을 잘라온다\n",
    "\n",
    "print(numbers[:3])\n",
    "#numbers리스트의 처음부터 2번까지 요소들을 잘라온다\n",
    "\n",
    "print(numbers[2:])\n",
    "#numbers리스트의 2번부터 끝까지 요소들을 잘라온다\n",
    "\n",
    "print(numbers[0:6:1])\n",
    "#numbers리스트의 0 ~ 5번까지 요소들을 1칸씩 건너뛰며 잘라온다\n",
    "\n",
    "print(numbers[0:6:2])\n",
    "#numbers리스트의 0 ~ 5번까지 요소들을 2칸씩 건너뛰며 잘라온다\n",
    "\n",
    "print(numbers[::])   #원배열\n",
    "print(numbers[:4:])  #3번인덱스까지\n",
    "print(numbers[::-1]) #역배열\n"
   ]
  },
  {
   "cell_type": "code",
   "execution_count": 32,
   "id": "6ca65938-fe24-433a-a43f-528fef98a71d",
   "metadata": {},
   "outputs": [
    {
     "name": "stdout",
     "output_type": "stream",
     "text": [
      "92\n"
     ]
    }
   ],
   "source": [
    "scores = [85, 90, 78, 92, 88]\n",
    "for i in scores[3:4:] :  #3번부터 3번까지 잘라온다 = 1개여도 배열로 반환\n",
    "    print(i)"
   ]
  },
  {
   "cell_type": "code",
   "execution_count": 38,
   "id": "b0039de2-bc40-44a4-bdc5-a305120611a1",
   "metadata": {},
   "outputs": [
    {
     "data": {
      "text/plain": [
       "78"
      ]
     },
     "execution_count": 38,
     "metadata": {},
     "output_type": "execute_result"
    }
   ],
   "source": [
    "#scores배열 요소의 합계\n",
    "sum(scores)\n",
    "\n",
    "#scores배열의 길이\n",
    "len(scores)\n",
    "\n",
    "#scores배열 요소의 평균\n",
    "\n",
    "sum(scores) / len(scores)\n",
    "\n",
    "max(scores)\n",
    "min(scores)"
   ]
  },
  {
   "cell_type": "code",
   "execution_count": 41,
   "id": "75293f99-ccf8-437e-a600-069dcfac68a3",
   "metadata": {},
   "outputs": [
    {
     "name": "stdout",
     "output_type": "stream",
     "text": [
      "빨강\n"
     ]
    }
   ],
   "source": [
    "#튜플\n",
    "#리스트와 유사하지만 값 변경이 불가능한 자료형\n",
    "#튜플은 소괄호()를 사용하여 생성한다.\n",
    "colors = (\"빨강\", \"초록\", \"파랑\")\n",
    "print(colors[0])\n",
    "#colors[1] = \"주황\""
   ]
  },
  {
   "cell_type": "code",
   "execution_count": 43,
   "id": "ed9cf32d-f7e7-4d1d-9d21-0073e19e02df",
   "metadata": {},
   "outputs": [
    {
     "name": "stdout",
     "output_type": "stream",
     "text": [
      "(5, 0)\n"
     ]
    }
   ],
   "source": [
    "def a() :\n",
    "    return 5,0\n",
    "print(a())"
   ]
  },
  {
   "cell_type": "code",
   "execution_count": 48,
   "id": "a3bb005b-6c95-48cd-abbd-28998d0d8330",
   "metadata": {},
   "outputs": [
    {
     "name": "stdout",
     "output_type": "stream",
     "text": [
      "김철수\n",
      "김철수\n",
      "None\n"
     ]
    }
   ],
   "source": [
    "#딕셔너리\n",
    "#키와 값으로 이루어진 자료형\n",
    "#javascript의 객체와 비슷 or json 데이터와 비슷\n",
    "person = {\n",
    "    \"이름\" : \"김철수\",\n",
    "    \"나이\" : 25,\n",
    "    \"직업\" : \"개발자\"\n",
    "}\n",
    "\n",
    "print(person[\"이름\"])\n",
    "print(person.get(\"이름\"))\n",
    "\n",
    "#print(person[\"성별\"])\n",
    "print(person.get(\"성별\"))\n",
    "#딕셔너리 요소에 접근할 때 [키]로 접근하거나 .get(키)로 접근할 수 있다.\n",
    "#get()을 사용하면 키가 없을때 None을 반환하며, []를 사용하면 오류 발생"
   ]
  },
  {
   "cell_type": "code",
   "execution_count": 55,
   "id": "cec771a5-9bb1-407a-a631-57079163a5eb",
   "metadata": {},
   "outputs": [
    {
     "name": "stdout",
     "output_type": "stream",
     "text": [
      "남성\n",
      "{'이름': '김철수', '나이': 26, '성별': '-'}\n"
     ]
    },
    {
     "ename": "KeyError",
     "evalue": "'직업'",
     "output_type": "error",
     "traceback": [
      "\u001b[1;31m---------------------------------------------------------------------------\u001b[0m",
      "\u001b[1;31mKeyError\u001b[0m                                  Traceback (most recent call last)",
      "Cell \u001b[1;32mIn[55], line 12\u001b[0m\n\u001b[0;32m      9\u001b[0m \u001b[38;5;28mprint\u001b[39m(person)\n\u001b[0;32m     11\u001b[0m \u001b[38;5;66;03m#딕셔너리에서 [직업]키 삭제\u001b[39;00m\n\u001b[1;32m---> 12\u001b[0m \u001b[38;5;28;01mdel\u001b[39;00m person[\u001b[38;5;124m\"\u001b[39m\u001b[38;5;124m직업\u001b[39m\u001b[38;5;124m\"\u001b[39m]\n\u001b[0;32m     13\u001b[0m \u001b[38;5;28mprint\u001b[39m(person)\n",
      "\u001b[1;31mKeyError\u001b[0m: '직업'"
     ]
    }
   ],
   "source": [
    "#딕셔너리에 키-밸류 추가\n",
    "person[\"성별\"] = \"남성\"\n",
    "print(person.get(\"성별\"))\n",
    "\n",
    "person[\"성별\"] = \"-\"\n",
    "\n",
    "#딕셔너리에서 [나이] 키의 값을 26으로 변경\n",
    "person[\"나이\"] = 26\n",
    "print(person)\n",
    "\n",
    "#딕셔너리에서 [직업]키 삭제\n",
    "del person[\"직업\"]\n",
    "print(person)"
   ]
  }
 ],
 "metadata": {
  "kernelspec": {
   "display_name": "Python 3 (ipykernel)",
   "language": "python",
   "name": "python3"
  },
  "language_info": {
   "codemirror_mode": {
    "name": "ipython",
    "version": 3
   },
   "file_extension": ".py",
   "mimetype": "text/x-python",
   "name": "python",
   "nbconvert_exporter": "python",
   "pygments_lexer": "ipython3",
   "version": "3.13.5"
  }
 },
 "nbformat": 4,
 "nbformat_minor": 5
}
