{
 "cells": [
  {
   "cell_type": "code",
   "execution_count": 1,
   "id": "be7b524c-087c-4d7a-918f-2adbe8194113",
   "metadata": {},
   "outputs": [
    {
     "data": {
      "text/plain": [
       "3"
      ]
     },
     "execution_count": 1,
     "metadata": {},
     "output_type": "execute_result"
    }
   ],
   "source": [
    "a = [1, 2, 3]\n",
    "len(a)"
   ]
  },
  {
   "cell_type": "code",
   "execution_count": 18,
   "id": "66f13e97-74e7-4683-b195-495e78d3c5a2",
   "metadata": {},
   "outputs": [
    {
     "name": "stdout",
     "output_type": "stream",
     "text": [
      "True\n",
      "False\n",
      "False\n",
      "True\n",
      "True\n",
      "True\n",
      "False\n",
      "False\n",
      "True\n"
     ]
    }
   ],
   "source": [
    "#in연산자와 is연산자\n",
    "\n",
    "#in\n",
    "#특정 값이 리스트, 튜블, 문자열, 딕셔너리 등에 포함되어 있는지 확인하는 연산자\n",
    "fruits = [\"사과\", \"바나나\", \"딸기\"]\n",
    "print(\"사과\" in fruits)\n",
    "print(\"수박\" in fruits)\n",
    "\n",
    "text = \"Python programming\"\n",
    "print(\"python\" in text)\n",
    "print(\"n p\" in text)\n",
    "\n",
    "print(\"n\" and \"o\" in text)\n",
    "\n",
    "print(\"수박\" not in fruits)\n",
    "print(\"딸기\" not in fruits)\n",
    "\n",
    "print(\"Python\" not in text)\n",
    "print(\"java\" not in text)"
   ]
  },
  {
   "cell_type": "code",
   "execution_count": 27,
   "id": "d5541e50-dc51-48a0-9f0d-bbbaa876f44e",
   "metadata": {},
   "outputs": [
    {
     "name": "stdout",
     "output_type": "stream",
     "text": [
      "True\n",
      "True\n",
      "True\n",
      "False\n",
      "True\n",
      "True\n"
     ]
    }
   ],
   "source": [
    "#is\n",
    "#두 변수가 동일한 객체(메모리 주소)인지 확인할 때 사용\n",
    "a = 1\n",
    "b = 1\n",
    "\n",
    "print(a == b)\n",
    "print(a is b)\n",
    "\n",
    "a = [1,2,3]\n",
    "b = [1,2,3]\n",
    "c = a\n",
    "print(a == b)\n",
    "print(a is b)\n",
    "print(a is c)\n",
    "\n",
    "print(a is not b)"
   ]
  },
  {
   "cell_type": "code",
   "execution_count": 32,
   "id": "62a368bc-b00f-477a-8a08-e05771b759ac",
   "metadata": {},
   "outputs": [
    {
     "name": "stdout",
     "output_type": "stream",
     "text": [
      "True\n",
      "True\n",
      "False\n",
      "False\n"
     ]
    }
   ],
   "source": [
    "#None의 비교\n",
    "d = None\n",
    "e = []\n",
    "print(d == None)\n",
    "print(d is None)\n",
    "\n",
    "print(e == None)\n",
    "print(e is None)"
   ]
  },
  {
   "cell_type": "code",
   "execution_count": 35,
   "id": "da2eebb2-91d8-4799-8115-b6f9a01fe333",
   "metadata": {},
   "outputs": [
    {
     "name": "stdout",
     "output_type": "stream",
     "text": [
      "[2, 4, 6, 8, 10]\n",
      "[2, 4, 6, 8, 10]\n"
     ]
    }
   ],
   "source": [
    "#리스트 컴프리헨션\n",
    "\n",
    "#빈 배열을 생성하고 반복문을 돌면서 1 ~ 10 까지 추가\n",
    "numbers = []\n",
    "for i in range(1, 11) :\n",
    "    if i % 2 == 0 :\n",
    "        numbers.append(i)\n",
    "\n",
    "print(numbers)\n",
    "\n",
    "numbers2 = [i for i in range(1,11)]\n",
    "numbers2 = [i for i in range(1,11) if i % 2 == 0]\n",
    "print(numbers)"
   ]
  }
 ],
 "metadata": {
  "kernelspec": {
   "display_name": "Python 3 (ipykernel)",
   "language": "python",
   "name": "python3"
  },
  "language_info": {
   "codemirror_mode": {
    "name": "ipython",
    "version": 3
   },
   "file_extension": ".py",
   "mimetype": "text/x-python",
   "name": "python",
   "nbconvert_exporter": "python",
   "pygments_lexer": "ipython3",
   "version": "3.13.5"
  }
 },
 "nbformat": 4,
 "nbformat_minor": 5
}
