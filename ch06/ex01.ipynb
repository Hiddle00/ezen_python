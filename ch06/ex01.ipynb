{
 "cells": [
  {
   "cell_type": "code",
   "execution_count": 3,
   "id": "11f68e1a-87b0-4db3-8a7d-6857ce102d1d",
   "metadata": {},
   "outputs": [
    {
     "name": "stdout",
     "output_type": "stream",
     "text": [
      "1\n",
      "2\n",
      "3\n",
      "4\n",
      "5\n",
      "6\n",
      "7\n",
      "8\n",
      "9\n"
     ]
    }
   ],
   "source": [
    "#반복문\n",
    "#1.while문\n",
    "# 조건이 거짓이 될 때 까지 반복하는 코드\n",
    "\n",
    "# while True :\n",
    "#     print(\"hi\")\n",
    "\n",
    "i = 1\n",
    "while True :\n",
    "    print(i)\n",
    "    i += 1\n",
    "    if i == 10 :\n",
    "        break;"
   ]
  },
  {
   "cell_type": "code",
   "execution_count": 3,
   "id": "5ec69b6e-e35d-492d-80f3-01bf94bb5566",
   "metadata": {
    "scrolled": true
   },
   "outputs": [
    {
     "name": "stdout",
     "output_type": "stream",
     "text": [
      "55\n",
      "--------------------\n",
      "2 X 1 = 2\n",
      "2 X 2 = 4\n",
      "2 X 3 = 6\n",
      "2 X 4 = 8\n",
      "2 X 5 = 10\n",
      "2 X 6 = 12\n",
      "2 X 7 = 14\n",
      "2 X 8 = 16\n",
      "2 X 9 = 18\n",
      "--------------------\n",
      "3 X 1 = 3\n",
      "3 X 2 = 6\n",
      "3 X 3 = 9\n",
      "3 X 4 = 12\n",
      "3 X 5 = 15\n",
      "3 X 6 = 18\n",
      "3 X 7 = 21\n",
      "3 X 8 = 24\n",
      "3 X 9 = 27\n",
      "--------------------\n",
      "4 X 1 = 4\n",
      "4 X 2 = 8\n",
      "4 X 3 = 12\n",
      "4 X 4 = 16\n",
      "4 X 5 = 20\n",
      "4 X 6 = 24\n",
      "4 X 7 = 28\n",
      "4 X 8 = 32\n",
      "4 X 9 = 36\n",
      "--------------------\n",
      "5 X 1 = 5\n",
      "5 X 2 = 10\n",
      "5 X 3 = 15\n",
      "5 X 4 = 20\n",
      "5 X 5 = 25\n",
      "5 X 6 = 30\n",
      "5 X 7 = 35\n",
      "5 X 8 = 40\n",
      "5 X 9 = 45\n",
      "--------------------\n",
      "6 X 1 = 6\n",
      "6 X 2 = 12\n",
      "6 X 3 = 18\n",
      "6 X 4 = 24\n",
      "6 X 5 = 30\n",
      "6 X 6 = 36\n",
      "6 X 7 = 42\n",
      "6 X 8 = 48\n",
      "6 X 9 = 54\n",
      "--------------------\n",
      "7 X 1 = 7\n",
      "7 X 2 = 14\n",
      "7 X 3 = 21\n",
      "7 X 4 = 28\n",
      "7 X 5 = 35\n",
      "7 X 6 = 42\n",
      "7 X 7 = 49\n",
      "7 X 8 = 56\n",
      "7 X 9 = 63\n",
      "--------------------\n",
      "8 X 1 = 8\n",
      "8 X 2 = 16\n",
      "8 X 3 = 24\n",
      "8 X 4 = 32\n",
      "8 X 5 = 40\n",
      "8 X 6 = 48\n",
      "8 X 7 = 56\n",
      "8 X 8 = 64\n",
      "8 X 9 = 72\n",
      "--------------------\n",
      "9 X 1 = 9\n",
      "9 X 2 = 18\n",
      "9 X 3 = 27\n",
      "9 X 4 = 36\n",
      "9 X 5 = 45\n",
      "9 X 6 = 54\n",
      "9 X 7 = 63\n",
      "9 X 8 = 72\n",
      "9 X 9 = 81\n",
      "--------------------\n"
     ]
    }
   ],
   "source": [
    "#while문을 이용해서 1 ~ 10까지 정수 출력\n",
    "i = 1\n",
    "j = 0\n",
    "while i < 11 :\n",
    "    j += i\n",
    "    i += 1\n",
    "print(j)\n",
    "i = 2\n",
    "\n",
    "print(\"-\" * 20)\n",
    "\n",
    "while i < 10 :\n",
    "    j = 1\n",
    "    while j < 10 :\n",
    "        #print( str(i) + \"X\" + str(j) + \"=\" + str(i*j))\n",
    "        print( f\"{i} X {j} = {i*j}\" )\n",
    "        j += 1\n",
    "    i += 1\n",
    "    print(\"-\" * 20)\n"
   ]
  },
  {
   "cell_type": "code",
   "execution_count": 26,
   "id": "8c14738c-7298-4aa2-bae7-603157e4bfc5",
   "metadata": {},
   "outputs": [
    {
     "name": "stdout",
     "output_type": "stream",
     "text": [
      "range(1, 10)\n",
      "1\n",
      "2\n",
      "3\n",
      "4\n",
      "5\n",
      "6\n",
      "7\n",
      "8\n",
      "9\n",
      "10\n",
      "1\n",
      "3\n",
      "5\n",
      "7\n",
      "9\n"
     ]
    }
   ],
   "source": [
    "#2 for문\n",
    "#range\n",
    "print(range(1, 10))\n",
    "\n",
    "for i in range(1, 11) :\n",
    "    print(i)\n",
    "\n",
    "#파이썬의 range는 range(시작숫자, 종료숫자, 스텝)으로 범위를 생성한다.\n",
    "#range(1, 10)은 1 ~ 9까지 1씩 증가하는 정수의 범위를 생성\n",
    "for i in range(1, 11, 2) :\n",
    "    print(i)\n"
   ]
  },
  {
   "cell_type": "code",
   "execution_count": 31,
   "id": "45d30282-9047-473a-9050-0770525275f0",
   "metadata": {},
   "outputs": [
    {
     "name": "stdout",
     "output_type": "stream",
     "text": [
      "2\n",
      "3\n",
      "4\n",
      "5\n",
      "6\n",
      "7\n",
      "8\n",
      "55\n",
      "30\n"
     ]
    }
   ],
   "source": [
    "#for문을 이용하여 2 ~ 8 까지의 정수를 출력하는 코드 작성\n",
    "\n",
    "for i in range(2, 9) :\n",
    "    print(i)\n",
    "\n",
    "#for문을 이용하여 1 ~ 10 까지 정수의 합계를 출력하는 코드 작성\n",
    "\n",
    "j = 0\n",
    "for i in range(1, 11) :\n",
    "    j += i\n",
    "print(j)\n",
    "\n",
    "j = 0\n",
    "for i in range(1, 11) :\n",
    "    if i % 2 != 0 :\n",
    "        continue\n",
    "    j += i\n",
    "print(j)"
   ]
  },
  {
   "cell_type": "code",
   "execution_count": 2,
   "id": "befd491e-4fb3-461c-bbcc-d07eaf2d71a8",
   "metadata": {},
   "outputs": [
    {
     "name": "stdout",
     "output_type": "stream",
     "text": [
      "1\n",
      "2\n",
      "3\n",
      "4\n",
      "5\n",
      "6\n",
      "7\n",
      "8\n",
      "9\n",
      "10\n"
     ]
    },
    {
     "data": {
      "text/plain": [
       "2"
      ]
     },
     "execution_count": 2,
     "metadata": {},
     "output_type": "execute_result"
    }
   ],
   "source": [
    "a = [1, 2, 3, 4, 5, 6, 7, 8, 9, 10]\n",
    "for i in a :\n",
    "    print(i)\n",
    "sum(a)\n",
    "2"
   ]
  }
 ],
 "metadata": {
  "kernelspec": {
   "display_name": "Python 3 (ipykernel)",
   "language": "python",
   "name": "python3"
  },
  "language_info": {
   "codemirror_mode": {
    "name": "ipython",
    "version": 3
   },
   "file_extension": ".py",
   "mimetype": "text/x-python",
   "name": "python",
   "nbconvert_exporter": "python",
   "pygments_lexer": "ipython3",
   "version": "3.13.5"
  }
 },
 "nbformat": 4,
 "nbformat_minor": 5
}
