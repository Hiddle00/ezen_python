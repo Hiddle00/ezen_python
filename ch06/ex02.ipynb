{
 "cells": [
  {
   "cell_type": "code",
   "execution_count": 2,
   "id": "ea404464-7810-42c2-a2bb-26cf09eae741",
   "metadata": {},
   "outputs": [
    {
     "name": "stdout",
     "output_type": "stream",
     "text": [
      "a\n",
      "b\n"
     ]
    }
   ],
   "source": [
    "#파이썬의 반복문\n",
    "while True :\n",
    "    print(\"a\")\n",
    "    break\n",
    "print(\"b\")"
   ]
  },
  {
   "cell_type": "code",
   "execution_count": 5,
   "id": "839e9548-7fca-44f4-b058-d1a8c0c84f3b",
   "metadata": {},
   "outputs": [
    {
     "name": "stdout",
     "output_type": "stream",
     "text": [
      "1\n",
      "2\n",
      "3\n",
      "4\n",
      "5\n",
      "6\n",
      "7\n",
      "8\n",
      "9\n",
      "10\n"
     ]
    }
   ],
   "source": [
    "a = 1\n",
    "while True :\n",
    "    print(a)\n",
    "    if a == 10 :\n",
    "        break\n",
    "    a += 1"
   ]
  },
  {
   "cell_type": "code",
   "execution_count": null,
   "id": "9ebd386e-6de2-4279-b11a-ac8700cb59a0",
   "metadata": {},
   "outputs": [],
   "source": [
    "range(1,10, 1)\n",
    "range(1,10, 2)\n",
    "\n",
    "for i in range(1, 10) :\n",
    "    print(i)\n"
   ]
  }
 ],
 "metadata": {
  "kernelspec": {
   "display_name": "Python 3 (ipykernel)",
   "language": "python",
   "name": "python3"
  },
  "language_info": {
   "codemirror_mode": {
    "name": "ipython",
    "version": 3
   },
   "file_extension": ".py",
   "mimetype": "text/x-python",
   "name": "python",
   "nbconvert_exporter": "python",
   "pygments_lexer": "ipython3",
   "version": "3.13.5"
  }
 },
 "nbformat": 4,
 "nbformat_minor": 5
}
