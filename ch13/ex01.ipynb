{
 "cells": [
  {
   "cell_type": "code",
   "execution_count": 8,
   "id": "02b07419-45ab-4378-8401-57935fa7a34e",
   "metadata": {},
   "outputs": [
    {
     "name": "stdout",
     "output_type": "stream",
     "text": [
      "시작\n",
      "나누기 예외\n",
      "끝\n"
     ]
    }
   ],
   "source": [
    "#예외처리\n",
    "#java의 오류는 크게 컴파일오류와 실행오류로 두 가지가 있다\n",
    "print(\"시작\")\n",
    "try :\n",
    "    print(1 / 0)\n",
    "except ValueError :  #ValueError만 잡는다\n",
    "    print(\"예외발생\")\n",
    "except ZeroDivisionError :\n",
    "    print(\"나누기 예외\")\n",
    "\n",
    "print(\"끝\")"
   ]
  },
  {
   "cell_type": "code",
   "execution_count": 12,
   "id": "52ded645-4f4a-4ee6-a262-9fa78d234bdb",
   "metadata": {},
   "outputs": [
    {
     "name": "stdout",
     "output_type": "stream",
     "text": [
      "?\n"
     ]
    }
   ],
   "source": [
    "try :\n",
    "    int(\"0\")\n",
    "except :\n",
    "    print(\"예외\")\n",
    "else :\n",
    "    #위에서 예외가 발생하지 않으면 실행\n",
    "    print(\"?\")"
   ]
  },
  {
   "cell_type": "code",
   "execution_count": 14,
   "id": "7c0c7945-5e1e-42cc-9acf-e345bde10536",
   "metadata": {},
   "outputs": [
    {
     "name": "stdout",
     "output_type": "stream",
     "text": [
      "1.0\n",
      "실행\n"
     ]
    }
   ],
   "source": [
    "try :\n",
    "    print(1 / 1)\n",
    "except :\n",
    "    print(\"예외\")\n",
    "finally :\n",
    "    print(\"실행\")\n"
   ]
  },
  {
   "cell_type": "code",
   "execution_count": 18,
   "id": "081bc60f-21cd-453b-bac7-e87de3176fcd",
   "metadata": {},
   "outputs": [
    {
     "name": "stdout",
     "output_type": "stream",
     "text": [
      "예외 division by zero\n"
     ]
    }
   ],
   "source": [
    "try :\n",
    "    print(1 / 0)\n",
    "except Exception as e :\n",
    "    print(\"예외\", e)\n"
   ]
  },
  {
   "cell_type": "code",
   "execution_count": 20,
   "id": "6bf0a5a9-5e41-4162-bc8e-0be2eb766afa",
   "metadata": {},
   "outputs": [
    {
     "name": "stdout",
     "output_type": "stream",
     "text": [
      "a\n"
     ]
    },
    {
     "ename": "ValueError",
     "evalue": "에러!",
     "output_type": "error",
     "traceback": [
      "\u001b[1;31m---------------------------------------------------------------------------\u001b[0m",
      "\u001b[1;31mValueError\u001b[0m                                Traceback (most recent call last)",
      "Cell \u001b[1;32mIn[20], line 5\u001b[0m\n\u001b[0;32m      3\u001b[0m     \u001b[38;5;28mprint\u001b[39m(\u001b[38;5;124m\"\u001b[39m\u001b[38;5;124ma\u001b[39m\u001b[38;5;124m\"\u001b[39m)\n\u001b[0;32m      4\u001b[0m     \u001b[38;5;28;01mraise\u001b[39;00m \u001b[38;5;167;01mValueError\u001b[39;00m(\u001b[38;5;124m\"\u001b[39m\u001b[38;5;124m에러!\u001b[39m\u001b[38;5;124m\"\u001b[39m)\n\u001b[1;32m----> 5\u001b[0m a()\n",
      "Cell \u001b[1;32mIn[20], line 4\u001b[0m, in \u001b[0;36ma\u001b[1;34m()\u001b[0m\n\u001b[0;32m      2\u001b[0m \u001b[38;5;28;01mdef\u001b[39;00m\u001b[38;5;250m \u001b[39m\u001b[38;5;21ma\u001b[39m() :\n\u001b[0;32m      3\u001b[0m     \u001b[38;5;28mprint\u001b[39m(\u001b[38;5;124m\"\u001b[39m\u001b[38;5;124ma\u001b[39m\u001b[38;5;124m\"\u001b[39m)\n\u001b[1;32m----> 4\u001b[0m     \u001b[38;5;28;01mraise\u001b[39;00m \u001b[38;5;167;01mValueError\u001b[39;00m(\u001b[38;5;124m\"\u001b[39m\u001b[38;5;124m에러!\u001b[39m\u001b[38;5;124m\"\u001b[39m)\n",
      "\u001b[1;31mValueError\u001b[0m: 에러!"
     ]
    }
   ],
   "source": [
    "# 예외 강제 발생\n",
    "def a() :\n",
    "    print(\"a\")\n",
    "    raise ValueError(\"에러!\")\n",
    "a()"
   ]
  }
 ],
 "metadata": {
  "kernelspec": {
   "display_name": "Python 3 (ipykernel)",
   "language": "python",
   "name": "python3"
  },
  "language_info": {
   "codemirror_mode": {
    "name": "ipython",
    "version": 3
   },
   "file_extension": ".py",
   "mimetype": "text/x-python",
   "name": "python",
   "nbconvert_exporter": "python",
   "pygments_lexer": "ipython3",
   "version": "3.13.5"
  }
 },
 "nbformat": 4,
 "nbformat_minor": 5
}
