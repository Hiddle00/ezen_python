{
 "cells": [
  {
   "cell_type": "code",
   "execution_count": 1,
   "id": "02ac1924-d925-4251-b6ba-5cf4dbe2c85a",
   "metadata": {},
   "outputs": [],
   "source": [
    "#1. 파이썬의 연산자\n",
    "#산술연산자\n",
    "#대입연산자\n",
    "#비교연산자\n",
    "#논리연산자"
   ]
  },
  {
   "cell_type": "code",
   "execution_count": 7,
   "id": "dc82b39e-4a40-45a2-98fc-e606909902e0",
   "metadata": {},
   "outputs": [
    {
     "name": "stdout",
     "output_type": "stream",
     "text": [
      "4\n",
      "1\n",
      "8\n",
      "2.5\n",
      "1\n",
      "2\n",
      "8\n"
     ]
    }
   ],
   "source": [
    "#산술연산자\n",
    "#+ - * / %\n",
    "print(2 + 2)\n",
    "print(4 - 3)\n",
    "print(4 * 2)\n",
    "print(5 / 2)\n",
    "print(5 % 2)\n",
    "#몫 연산자\n",
    "print(5 // 2)\n",
    "#거듭제곱 연산자\n",
    "print(2 ** 3)"
   ]
  },
  {
   "cell_type": "code",
   "execution_count": 9,
   "id": "ee6bbb37-3691-46c9-a4d8-d42493287be4",
   "metadata": {},
   "outputs": [
    {
     "name": "stdout",
     "output_type": "stream",
     "text": [
      "안녕하세요\n",
      "안녕2\n",
      "aaaaaaaaaa\n"
     ]
    }
   ],
   "source": [
    "#산술 연산자의 문제\n",
    "#1. 다른 타입은 계산 불가능\n",
    "print(\"안녕\" + \"하세요\")\n",
    "print(\"안녕\" + str(2))\n",
    "\n",
    "#2. 이상한 연산이 가능\n",
    "print(\"a\" * 10)"
   ]
  },
  {
   "cell_type": "code",
   "execution_count": 18,
   "id": "fb2c5cbf-323a-4214-8592-a48504bf16d9",
   "metadata": {},
   "outputs": [
    {
     "name": "stdout",
     "output_type": "stream",
     "text": [
      "True\n",
      "True\n",
      "False\n",
      "False\n",
      "False\n",
      "True\n"
     ]
    }
   ],
   "source": [
    "#비교연산자\n",
    "#== <= >= < > !=\n",
    "print(1 > 0)\n",
    "print(1 >= 1)\n",
    "print(2 == 1)\n",
    "print(1 != 1)\n",
    "print(2 < 1)\n",
    "print(1 <= 1)"
   ]
  },
  {
   "cell_type": "code",
   "execution_count": 20,
   "id": "8ac40065-e707-4f08-bcc9-e4576ea0d52b",
   "metadata": {},
   "outputs": [
    {
     "name": "stdout",
     "output_type": "stream",
     "text": [
      "True\n",
      "False\n",
      "True\n",
      "False\n",
      "False\n"
     ]
    }
   ],
   "source": [
    "#논리연산자(논리곱, 논리합, 논리부정)\n",
    "#and or not \n",
    "print(True and True)\n",
    "print(True and False)\n",
    "\n",
    "print(True or True)\n",
    "print(False or False)\n",
    "\n",
    "print(not True)"
   ]
  },
  {
   "cell_type": "code",
   "execution_count": 24,
   "id": "cd06c2e3-47fb-4c7b-adcb-2d0a2b366708",
   "metadata": {},
   "outputs": [
    {
     "name": "stdout",
     "output_type": "stream",
     "text": [
      "10\n",
      "8\n",
      "4.0\n",
      "40.0\n"
     ]
    }
   ],
   "source": [
    "#복합대입연산자\n",
    "a = 5\n",
    "\n",
    "#a = a + 5\n",
    "a += 5\n",
    "print(a) #a == 10\n",
    "\n",
    "#a = a - 2\n",
    "a -= 2\n",
    "print(a) #a == 8\n",
    "\n",
    "#a = a / 2\n",
    "a /= 2\n",
    "print(a) #a == 4.0\n",
    "\n",
    "#a = a * 10\n",
    "a *= 10\n",
    "print(a) #a == 40.0"
   ]
  },
  {
   "cell_type": "code",
   "execution_count": 27,
   "id": "5c5674a3-322e-476a-8286-c39b3b2f1d31",
   "metadata": {},
   "outputs": [
    {
     "ename": "SyntaxError",
     "evalue": "invalid syntax. Perhaps you forgot a comma? (943419847.py, line 1)",
     "output_type": "error",
     "traceback": [
      "\u001b[1;36m  Cell \u001b[1;32mIn[27], line 1\u001b[1;36m\u001b[0m\n\u001b[1;33m    print(a ~ 40)\u001b[0m\n\u001b[1;37m          ^\u001b[0m\n\u001b[1;31mSyntaxError\u001b[0m\u001b[1;31m:\u001b[0m invalid syntax. Perhaps you forgot a comma?\n"
     ]
    }
   ],
   "source": [
    "#print(a ~ 40)"
   ]
  }
 ],
 "metadata": {
  "kernelspec": {
   "display_name": "Python 3 (ipykernel)",
   "language": "python",
   "name": "python3"
  },
  "language_info": {
   "codemirror_mode": {
    "name": "ipython",
    "version": 3
   },
   "file_extension": ".py",
   "mimetype": "text/x-python",
   "name": "python",
   "nbconvert_exporter": "python",
   "pygments_lexer": "ipython3",
   "version": "3.13.5"
  },
  "panel-cell-order": [
   "6a103427-502b-4647-b86e-2c0c093e0cc7"
  ]
 },
 "nbformat": 4,
 "nbformat_minor": 5
}
