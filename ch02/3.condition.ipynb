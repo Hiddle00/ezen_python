{
 "cells": [
  {
   "cell_type": "code",
   "execution_count": 10,
   "id": "b0de88ab-c4a6-4593-b65c-0c3b22952001",
   "metadata": {},
   "outputs": [
    {
     "name": "stdout",
     "output_type": "stream",
     "text": [
      "진짜\n",
      "hi\n"
     ]
    }
   ],
   "source": [
    "#3.조건문\n",
    "#조건문은 특정 조건을 만족할 때만 실행되도록 하는 제어문\n",
    "\n",
    "#파이썬에서 코드블럭은 :(콜론)으로 시작하고 들여쓰기 하지 않은부분까지 \n",
    "if False :\n",
    "    print(\"참\")\n",
    "    print(\"true\")\n",
    "print(\"진짜\")\n",
    "\n",
    "if True :\n",
    "    print(\"hi\")"
   ]
  },
  {
   "cell_type": "code",
   "execution_count": 14,
   "id": "edaea8e8-47ab-4229-9f0a-55e548024147",
   "metadata": {},
   "outputs": [
    {
     "name": "stdout",
     "output_type": "stream",
     "text": [
      "고등학생 아님\n"
     ]
    }
   ],
   "source": [
    "age = 15\n",
    "#age가 15보다 클 때 동작하는 if조건문\n",
    "\n",
    "if age > 15 :\n",
    "    print(\"고등학생\")\n",
    "else:\n",
    "    print(\"고등학생 아님\")"
   ]
  },
  {
   "cell_type": "code",
   "execution_count": 15,
   "id": "df1448ab-9f08-4e67-a1ca-4053b641f727",
   "metadata": {},
   "outputs": [
    {
     "name": "stdout",
     "output_type": "stream",
     "text": [
      "5,000원\n"
     ]
    }
   ],
   "source": [
    "age = 15\n",
    "#age가 12보다 작으면 \"무료\"\n",
    "#age가 18보다 작으면 \"5,000원\"\n",
    "#그렇지 않다면 \"10,000원\" 출력\n",
    "\n",
    "if age < 12 :\n",
    "    print(\"무료\")\n",
    "elif age < 18 :\n",
    "    print(\"5,000원\")\n",
    "else :\n",
    "    print(\"10,000원\")"
   ]
  },
  {
   "cell_type": "code",
   "execution_count": null,
   "id": "57300639-b4b5-4122-a74c-21a002753879",
   "metadata": {},
   "outputs": [],
   "source": [
    "math_score = 90\n",
    "#수학점수가 90점 이상이면 \"A\"\n",
    "#수학점수가 80점 이상이면 \"B\"\n",
    "#수학점수가 70점 이상이면 \"C\"\n",
    "#수학점수가 60점 이상이면 \"D\"\n",
    "#수학점수가 나머지면 \"F\" 라고 출력\n",
    "\n",
    "if math_score >= 90 :\n",
    "    print(\"A\")\n",
    "elif math_score >= 80 :\n",
    "    print(\"B\")\n",
    "elif math_score >= 70 :\n",
    "    print(\"C\")\n",
    "elif math_score >= 60 :\n",
    "    print(\"D\")\n",
    "else :\n",
    "    print(\"F\")\n"
   ]
  }
 ],
 "metadata": {
  "kernelspec": {
   "display_name": "Python 3 (ipykernel)",
   "language": "python",
   "name": "python3"
  },
  "language_info": {
   "codemirror_mode": {
    "name": "ipython",
    "version": 3
   },
   "file_extension": ".py",
   "mimetype": "text/x-python",
   "name": "python",
   "nbconvert_exporter": "python",
   "pygments_lexer": "ipython3",
   "version": "3.13.5"
  },
  "panel-cell-order": [
   "6a103427-502b-4647-b86e-2c0c093e0cc7"
  ]
 },
 "nbformat": 4,
 "nbformat_minor": 5
}
