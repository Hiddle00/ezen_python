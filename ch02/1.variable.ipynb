{
 "cells": [
  {
   "cell_type": "code",
   "execution_count": 2,
   "id": "6a103427-502b-4647-b86e-2c0c093e0cc7",
   "metadata": {
    "panel-layout": {
     "height": 0,
     "visible": true,
     "width": 100
    }
   },
   "outputs": [
    {
     "name": "stdout",
     "output_type": "stream",
     "text": [
      "5\n"
     ]
    }
   ],
   "source": [
    "print(5)"
   ]
  },
  {
   "cell_type": "code",
   "execution_count": null,
   "id": "fb030cac-2f66-44d4-9acd-04a18cbe9a08",
   "metadata": {},
   "outputs": [],
   "source": [
    "#cell이라고 한다"
   ]
  },
  {
   "cell_type": "code",
   "execution_count": 3,
   "id": "af412207-b771-473e-8054-d1e8d3273693",
   "metadata": {},
   "outputs": [],
   "source": [
    "#파이썬의 주석\n",
    "#파이썬은 한줄씩 실행하면서 실시간 번역한다 : 인터프리터 언어\n",
    "#JAVA는 파일 하나를 실행하기 전 통째로 번역한다 : 컴파일 언어\n",
    "\n",
    "#주피터 노트북\n",
    "#파이썬을 웹페이지에서 실행할 수 있는 도구\n",
    "#구글 colab과 동일한 구성"
   ]
  },
  {
   "cell_type": "code",
   "execution_count": 8,
   "id": "2e00d6a4-9024-4cf0-bab4-f34020388304",
   "metadata": {},
   "outputs": [
    {
     "name": "stdout",
     "output_type": "stream",
     "text": [
      "hi\n",
      "52\n",
      "안녕\n",
      "하세요\n",
      "저는\n",
      "안녕 하세요 저는\n"
     ]
    }
   ],
   "source": [
    "#1. 파이썬의 출력(표준출력)\n",
    "print(\"hi\")\n",
    "print(52)\n",
    "print(\"안녕\")\n",
    "print(\"하세요\")\n",
    "print(\"저는\")\n",
    "print(\"안녕\",\"하세요\",\"저는\")"
   ]
  },
  {
   "cell_type": "code",
   "execution_count": 12,
   "id": "27c557bd-d2f3-4191-8aea-cc20533ab86f",
   "metadata": {},
   "outputs": [
    {
     "name": "stdout",
     "output_type": "stream",
     "text": [
      "a b\n",
      "a+b\n"
     ]
    }
   ],
   "source": [
    "#파이썬 출력의 파라미터\n",
    "#파이썬의 프린트는 한 번에 여러개의 값을 출력할 수 있는데 이 때 출력 값을\n",
    "#구분하는 \"구분자\"를 지정할 수 있다.(기본값 \" \"(공백))\n",
    "print(\"a\",\"b\")\n",
    "print(\"a\",\"b\",sep=\"+\")"
   ]
  },
  {
   "cell_type": "code",
   "execution_count": 14,
   "id": "727d6712-e227-442b-9029-15213f73a38c",
   "metadata": {},
   "outputs": [
    {
     "name": "stdout",
     "output_type": "stream",
     "text": [
      "ab\n"
     ]
    }
   ],
   "source": [
    "#끝자리 구분자\n",
    "#파이썬 출력의 끝자리 구분자(end sep)\n",
    "#파이썬의 print는 값을 출력한 후 줄바꿈을 해주는데 이 때, 끝 구분자를\n",
    "#지정할 수 있다.(기본값 (\\n 줄바꿈))\n",
    "print(\"a\",end=\"\")\n",
    "print(\"b\")"
   ]
  },
  {
   "cell_type": "code",
   "execution_count": 17,
   "id": "83a3f895-7d57-4a61-8298-1c0f3d4ef8a5",
   "metadata": {},
   "outputs": [
    {
     "name": "stdout",
     "output_type": "stream",
     "text": [
      "Hello!\n",
      "5\n",
      "2.2\n",
      "True\n",
      "False\n",
      "50\n"
     ]
    }
   ],
   "source": [
    "#2. 변수\n",
    "#파이썬 변수는 선언할 때 타입을 작성하지 않는다.\n",
    "#변수가 여러 타입의 값을 가질 수 있다.\n",
    "a = \"Hello!\"\n",
    "print(a)\n",
    "\n",
    "b = 5\n",
    "print(b)\n",
    "\n",
    "c = 2.2\n",
    "print(c)\n",
    "\n",
    "d = True\n",
    "print(d)\n",
    "\n",
    "e = False\n",
    "print(e)\n",
    "\n",
    "e = 50\n",
    "print(e)"
   ]
  },
  {
   "cell_type": "code",
   "execution_count": 21,
   "id": "151a8403-3686-410c-b30b-b18469e19b6e",
   "metadata": {},
   "outputs": [],
   "source": [
    "#파이썬 변수 선언 규칙\n",
    "#1. 영문자, 숫자, _(언더바)만 사용가능\n",
    "a = 5\n",
    "a2 = 10\n",
    "a_2 = 15\n",
    "\n",
    "#2. 숫자로 시작할 수는 없다\n",
    "#2a; 3b\n",
    "\n",
    "#3. 대소문자를 구별한다.\n",
    "b = 20\n",
    "B = 30\n",
    "\n",
    "#4. 예약어는 변수 이름으로 사용불가\n",
    "#if = 2; for = \"hi\"\n",
    "\n",
    "#5. 변수 작명 규칙\n",
    "#ex) 수학점수 변수\n",
    "mathscore = 20 #X\n",
    "mathScore = 30 #JAVA\n",
    "math_score = 40 #Python"
   ]
  },
  {
   "cell_type": "code",
   "execution_count": 23,
   "id": "1f7d6d94-abb9-4d5e-b363-dbcabce15680",
   "metadata": {},
   "outputs": [],
   "source": [
    "#3. 파이썬 자료형(값의 타입)\n",
    "#정수\n",
    "a = 20\n",
    "#실수\n",
    "b = 2.2\n",
    "#문자열\n",
    "c = \"hi\"\n",
    "d = 'hi'\n",
    "#논리\n",
    "e = True\n",
    "#None\n",
    "f = None"
   ]
  },
  {
   "cell_type": "code",
   "execution_count": 28,
   "id": "8df71214-745a-4dc1-88d8-171570fea59f",
   "metadata": {},
   "outputs": [
    {
     "name": "stdout",
     "output_type": "stream",
     "text": [
      "44\n",
      "42.0\n",
      "25\n"
     ]
    }
   ],
   "source": [
    "# print(\"a\" + 2)\n",
    "#파이썬 형변환\n",
    "#파이썬에서는 값의 타입이 다르면 연산이 불가능 ex) 1 + \"a\" X\n",
    "#값의 타입이 다를 때 연산을 하기 위해선 형변환이 필요하다.\n",
    "\n",
    "a = \"42\"\n",
    "#문자 -> 정수\n",
    "b = int(a)\n",
    "print(b + 2)\n",
    "\n",
    "#문자를 실수로 변환\n",
    "c = float(a)\n",
    "print(c)\n",
    "\n",
    "#정수를 문자로 변환\n",
    "d = str(25)\n",
    "print(d)"
   ]
  }
 ],
 "metadata": {
  "kernelspec": {
   "display_name": "Python 3 (ipykernel)",
   "language": "python",
   "name": "python3"
  },
  "language_info": {
   "codemirror_mode": {
    "name": "ipython",
    "version": 3
   },
   "file_extension": ".py",
   "mimetype": "text/x-python",
   "name": "python",
   "nbconvert_exporter": "python",
   "pygments_lexer": "ipython3",
   "version": "3.13.5"
  },
  "panel-cell-order": [
   "6a103427-502b-4647-b86e-2c0c093e0cc7"
  ]
 },
 "nbformat": 4,
 "nbformat_minor": 5
}
