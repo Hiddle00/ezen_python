{
 "cells": [
  {
   "cell_type": "code",
   "execution_count": 3,
   "id": "d9aaf2a0-4a32-4e15-8bc5-69eb721c61f3",
   "metadata": {},
   "outputs": [
    {
     "name": "stdout",
     "output_type": "stream",
     "text": [
      "a는 5\n",
      "b는 5가 아님\n"
     ]
    }
   ],
   "source": [
    "a = 5\n",
    "b = None\n",
    "\n",
    "#a가 5 일때 동작하는 조건문\n",
    "if a == 5 :\n",
    "    print(\"a는 5\")\n",
    "if b == None :\n",
    "    print(\"b는 5가 아님\")"
   ]
  },
  {
   "cell_type": "code",
   "execution_count": 5,
   "id": "d44ef836-9fce-4ac4-ad2d-ce95107b6469",
   "metadata": {},
   "outputs": [
    {
     "name": "stdout",
     "output_type": "stream",
     "text": [
      "거짓\n"
     ]
    }
   ],
   "source": [
    "#a가 5보다 크면 \"참\" 그렇지 않다면 \"거짓\"을 출력\n",
    "if a > 5 :\n",
    "    print(\"참\")\n",
    "else :\n",
    "    print(\"거짓\")"
   ]
  },
  {
   "cell_type": "code",
   "execution_count": 18,
   "id": "a6c6a05c-d962-47e4-b9f9-5e3b42559095",
   "metadata": {},
   "outputs": [
    {
     "name": "stdout",
     "output_type": "stream",
     "text": [
      "A\n"
     ]
    }
   ],
   "source": [
    "#변수 korean_score를 선언하고 85로 초기화\n",
    "#만약 korean_score가 90보다 크거나 같으면 \"A\"\n",
    "#그렇지 않고 만약 korean_score가 80보다 크거나 같으면 \"B\"\n",
    "#그렇지 않고 만약 korean_score가 70보다 크거나 같으면 \"C\"\n",
    "#그렇지 않고 만약 korean_score가 60보다 크거나 같으면 \"D\"\n",
    "#그렇지 않다면 \"F\"를 출력\n",
    "#97점 이상이면 \"A+\", 93점 이하면 \"A-\", 94~96점은 \"A\"\n",
    "#87점 이상이면 \"B+\", 83점 이하면 \"B-\"출력\n",
    "\n",
    "korean_score = 96\n",
    "if korean_score >= 90 :\n",
    "    if korean_score >= 97 :\n",
    "        print(\"A+\")\n",
    "    elif korean_score <= 93 :\n",
    "        print(\"A-\")\n",
    "    else :\n",
    "        print(\"A\")\n",
    "elif korean_score >= 80 :\n",
    "    if korean_score >= 87 :\n",
    "        print(\"B+\")\n",
    "    elif korean_score <= 83 :\n",
    "        print(\"B-\")\n",
    "    else :\n",
    "        print(\"B\")\n",
    "elif korean_score >= 70 :\n",
    "    print(\"C\")\n",
    "elif korean_score >= 60 :\n",
    "    print(\"D\")\n",
    "else :\n",
    "    print(\"F\")\n"
   ]
  },
  {
   "cell_type": "code",
   "execution_count": 19,
   "id": "fc1b8a59-af12-4dcc-a3a0-a37aa23e790a",
   "metadata": {},
   "outputs": [
    {
     "name": "stdout",
     "output_type": "stream",
     "text": [
      "참\n"
     ]
    }
   ],
   "source": [
    "a = 20\n",
    "b = 30\n",
    "\n",
    "if a >= 20 :\n",
    "    if b >= 30 :\n",
    "        print(\"참\")\n",
    "else :\n",
    "    print(\"거짓\")\n",
    "\n"
   ]
  },
  {
   "cell_type": "code",
   "execution_count": 20,
   "id": "2601ed0b-7df0-4a26-8497-f8d0e0a95be3",
   "metadata": {},
   "outputs": [
    {
     "name": "stdout",
     "output_type": "stream",
     "text": [
      "성인 남성\n",
      "성인 남성\n"
     ]
    }
   ],
   "source": [
    "#age 변수를 선언하고 20으로 초기화\n",
    "#gender 변수를 선언하고 \"남\"으로 초기화\n",
    "\n",
    "#age가 20보다 크거나 같고 gender가 \"남\"이면 \"성인 남성\" 출력\n",
    "\n",
    "age = 20\n",
    "gender = \"남\"\n",
    "\n",
    "# 1.중첩 조건\n",
    "if age >= 20 :\n",
    "    if gender == \"남\" :\n",
    "        print(\"성인 남성\")\n",
    "    else : \n",
    "        print(\"성인 여성\")\n",
    "\n",
    "# 2.다중 조건\n",
    "if age >= 20 and gender == \"남\" :\n",
    "    print(\"성인 남성\")\n",
    "elif age >= 20 and gender == \"여\" :\n",
    "    print(\"성인 여성\")"
   ]
  }
 ],
 "metadata": {
  "kernelspec": {
   "display_name": "Python 3 (ipykernel)",
   "language": "python",
   "name": "python3"
  },
  "language_info": {
   "codemirror_mode": {
    "name": "ipython",
    "version": 3
   },
   "file_extension": ".py",
   "mimetype": "text/x-python",
   "name": "python",
   "nbconvert_exporter": "python",
   "pygments_lexer": "ipython3",
   "version": "3.13.5"
  }
 },
 "nbformat": 4,
 "nbformat_minor": 5
}
